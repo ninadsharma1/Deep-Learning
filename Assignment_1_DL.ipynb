{
 "cells": [
  {
   "cell_type": "markdown",
   "id": "773ef4c7",
   "metadata": {},
   "source": [
    "#Assignment 1 : Introduction to Deep learning by Ninad Sharma"
   ]
  },
  {
   "cell_type": "code",
   "execution_count": 3,
   "id": "8f384e9b",
   "metadata": {},
   "outputs": [],
   "source": [
    "import tensorflow as tf"
   ]
  },
  {
   "cell_type": "code",
   "execution_count": 4,
   "id": "85c7ccad",
   "metadata": {},
   "outputs": [
    {
     "data": {
      "text/plain": [
       "tensorflow.python.framework.ops.Tensor"
      ]
     },
     "execution_count": 4,
     "metadata": {},
     "output_type": "execute_result"
    }
   ],
   "source": [
    "tf.Tensor"
   ]
  },
  {
   "cell_type": "code",
   "execution_count": 6,
   "id": "4676d6d3",
   "metadata": {
    "scrolled": true
   },
   "outputs": [
    {
     "name": "stdout",
     "output_type": "stream",
     "text": [
      "tf.Tensor(3, shape=(), dtype=int32)\n",
      "tf.Tensor([4 6], shape=(2,), dtype=int32)\n",
      "tf.Tensor(25, shape=(), dtype=int32)\n",
      "tf.Tensor(6, shape=(), dtype=int32)\n"
     ]
    }
   ],
   "source": [
    "print(tf.math.add(1, 2))\n",
    "print(tf.math.add([1, 2], [3, 4]))\n",
    "print(tf.math.square(5))\n",
    "print(tf.math.reduce_sum([1, 2, 3]))"
   ]
  },
  {
   "cell_type": "code",
   "execution_count": 7,
   "id": "5d1f65ea",
   "metadata": {},
   "outputs": [
    {
     "name": "stdout",
     "output_type": "stream",
     "text": [
      "TensorFlow operations convert numpy arrays to Tensors automatically\n",
      "tf.Tensor(\n",
      "[[42. 42. 42.]\n",
      " [42. 42. 42.]\n",
      " [42. 42. 42.]], shape=(3, 3), dtype=float64)\n",
      "And NumPy operations convert Tensors to NumPy arrays automatically\n",
      "[[43. 43. 43.]\n",
      " [43. 43. 43.]\n",
      " [43. 43. 43.]]\n",
      "The .numpy() method explicitly converts a Tensor to a numpy array\n",
      "[[42. 42. 42.]\n",
      " [42. 42. 42.]\n",
      " [42. 42. 42.]]\n"
     ]
    }
   ],
   "source": [
    "import numpy as np\n",
    "\n",
    "ndarray = np.ones([3, 3])\n",
    "\n",
    "print(\"TensorFlow operations convert numpy arrays to Tensors automatically\")\n",
    "tensor = tf.math.multiply(ndarray, 42)\n",
    "print(tensor)\n",
    "\n",
    "\n",
    "print(\"And NumPy operations convert Tensors to NumPy arrays automatically\")\n",
    "print(np.add(tensor, 1))\n",
    "\n",
    "print(\"The .numpy() method explicitly converts a Tensor to a numpy array\")\n",
    "print(tensor.numpy())"
   ]
  },
  {
   "cell_type": "code",
   "execution_count": 8,
   "id": "652523d8",
   "metadata": {},
   "outputs": [
    {
     "name": "stdout",
     "output_type": "stream",
     "text": [
      "Is there a GPU available: \n",
      "[]\n",
      "Is the Tensor on GPU #0:  \n",
      "False\n"
     ]
    }
   ],
   "source": [
    "x = tf.random.uniform([3, 3])\n",
    "\n",
    "print(\"Is there a GPU available: \"),\n",
    "print(tf.config.list_physical_devices(\"GPU\"))\n",
    "\n",
    "print(\"Is the Tensor on GPU #0:  \"),\n",
    "print(x.device.endswith('GPU:0'))"
   ]
  },
  {
   "cell_type": "code",
   "execution_count": 10,
   "id": "55e0d86f",
   "metadata": {},
   "outputs": [],
   "source": [
    "ds_tensors = tf.data.Dataset.from_tensor_slices([1, 2, 3, 4, 5, 6])\n",
    "\n",
    "# Create a CSV file\n",
    "import tempfile\n",
    "_, filename = tempfile.mkstemp()\n",
    "\n",
    "with open(filename, 'w') as f:\n",
    "  f.write(\"\"\"Line 1\n",
    "Line 2\n",
    "Line 3\n",
    "  \"\"\")\n",
    "\n",
    "ds_file = tf.data.TextLineDataset(filename)"
   ]
  },
  {
   "cell_type": "code",
   "execution_count": 14,
   "id": "cc4386a8",
   "metadata": {},
   "outputs": [
    {
     "name": "stdout",
     "output_type": "stream",
     "text": [
      "<_BatchDataset element_spec=TensorSpec(shape=(None,), dtype=tf.string, name=None)>\n"
     ]
    }
   ],
   "source": [
    "print(ds_file.batch(1))"
   ]
  },
  {
   "cell_type": "code",
   "execution_count": 15,
   "id": "3c5018b8",
   "metadata": {},
   "outputs": [],
   "source": [
    "ds_tensors = ds_tensors.map(tf.math.square).shuffle(2).batch(2)\n",
    "\n",
    "ds_file = ds_file.batch(2)"
   ]
  },
  {
   "cell_type": "code",
   "execution_count": 16,
   "id": "6d1e7cba",
   "metadata": {},
   "outputs": [
    {
     "name": "stdout",
     "output_type": "stream",
     "text": [
      "Elements of ds_tensors:\n",
      "tf.Tensor([4 1], shape=(2,), dtype=int32)\n",
      "tf.Tensor([ 9 16], shape=(2,), dtype=int32)\n",
      "tf.Tensor([25 36], shape=(2,), dtype=int32)\n",
      "\n",
      "Elements in ds_file:\n",
      "tf.Tensor([b'Line 1' b'Line 2'], shape=(2,), dtype=string)\n",
      "tf.Tensor([b'Line 3' b'  '], shape=(2,), dtype=string)\n"
     ]
    }
   ],
   "source": [
    "print('Elements of ds_tensors:')\n",
    "for x in ds_tensors:\n",
    "  print(x)\n",
    "\n",
    "print('\\nElements in ds_file:')\n",
    "for x in ds_file:\n",
    "  print(x)"
   ]
  },
  {
   "cell_type": "markdown",
   "id": "3bb5ffce",
   "metadata": {},
   "source": [
    "MNIST Linear Model"
   ]
  },
  {
   "cell_type": "code",
   "execution_count": 26,
   "id": "eb694af7",
   "metadata": {},
   "outputs": [],
   "source": [
    "import tensorflow as tf\n",
    "import numpy as np\n",
    "import matplotlib.pyplot as plt\n",
    "from datasets import MNISTDataset\n",
    "import ssl"
   ]
  },
  {
   "cell_type": "markdown",
   "id": "c6ee2ce6",
   "metadata": {},
   "source": [
    "#Issue with downloading dataset in mac : https://github.com/tensorflow/tensorflow/issues/33285"
   ]
  },
  {
   "cell_type": "code",
   "execution_count": 27,
   "id": "fee52cf1",
   "metadata": {},
   "outputs": [],
   "source": [
    "requests.packages.urllib3.disable_warnings()\n",
    "import ssl\n",
    "\n",
    "try:\n",
    "    _create_unverified_https_context = ssl._create_unverified_context\n",
    "except AttributeError:\n",
    "    # Legacy Python that doesn't verify HTTPS certificates by default\n",
    "    pass\n",
    "else:\n",
    "    # Handle target environment that doesn't support HTTPS verification\n",
    "    ssl._create_default_https_context = _create_unverified_https_context"
   ]
  },
  {
   "cell_type": "code",
   "execution_count": 28,
   "id": "1839d4a3",
   "metadata": {},
   "outputs": [
    {
     "name": "stdout",
     "output_type": "stream",
     "text": [
      "Downloading data from https://storage.googleapis.com/tensorflow/tf-keras-datasets/mnist.npz\n",
      "11490434/11490434 [==============================] - 3s 0us/step\n"
     ]
    }
   ],
   "source": [
    "mnist = tf.keras.datasets.mnist\n",
    "(train_images, train_labels), (test_images, test_labels) = mnist.load_data()\n"
   ]
  },
  {
   "cell_type": "code",
   "execution_count": 38,
   "id": "db407d32",
   "metadata": {},
   "outputs": [
    {
     "data": {
      "text/plain": [
       "<matplotlib.image.AxesImage at 0x178dedb80>"
      ]
     },
     "execution_count": 38,
     "metadata": {},
     "output_type": "execute_result"
    },
    {
     "data": {
      "image/png": "[encoded data removed]",
      "text/plain": [
       "<Figure size 640x480 with 1 Axes>"
      ]
     },
     "metadata": {},
     "output_type": "display_data"
    }
   ],
   "source": [
    "plt.imshow(train_images[1], cmap=\"Greys_r\")"
   ]
  },
  {
   "cell_type": "code",
   "execution_count": 32,
   "id": "284e6fbe",
   "metadata": {},
   "outputs": [],
   "source": [
    "data = MNISTDataset(train_images.reshape([-1, 784]), train_labels, \n",
    "                    test_images.reshape([-1, 784]), test_labels,\n",
    "                    batch_size=128)"
   ]
  },
  {
   "cell_type": "code",
   "execution_count": 39,
   "id": "15815b47",
   "metadata": {},
   "outputs": [
    {
     "name": "stdout",
     "output_type": "stream",
     "text": [
      "(60000, 28, 28)\n",
      "(60000,)\n",
      "(10000, 28, 28)\n",
      "(10000,)\n"
     ]
    }
   ],
   "source": [
    "print(train_images.shape)\n",
    "print(train_labels.shape)\n",
    "print(test_images.shape)\n",
    "print(test_labels.shape)"
   ]
  },
  {
   "cell_type": "markdown",
   "id": "dbcf5afe",
   "metadata": {},
   "source": [
    "#Single Linear Model"
   ]
  },
  {
   "cell_type": "code",
   "execution_count": 35,
   "id": "33981353",
   "metadata": {},
   "outputs": [],
   "source": [
    "train_steps = 1000\n",
    "learning_rate = 0.1\n",
    "\n",
    "W = tf.Variable(np.zeros([784, 10]).astype(np.float32))\n",
    "b = tf.Variable(np.zeros(10, dtype=np.float32))\n"
   ]
  },
  {
   "cell_type": "code",
   "execution_count": 36,
   "id": "c41949ae",
   "metadata": {},
   "outputs": [
    {
     "name": "stdout",
     "output_type": "stream",
     "text": [
      "Loss: 2.3025853633880615 Accuracy: 0.0859375\n",
      "Loss: 0.6072514057159424 Accuracy: 0.828125\n",
      "Loss: 0.5264893770217896 Accuracy: 0.84375\n",
      "Loss: 0.5064999461174011 Accuracy: 0.84375\n",
      "Loss: 0.357225239276886 Accuracy: 0.9140625\n",
      "Starting new epoch...\n",
      "Loss: 0.48206374049186707 Accuracy: 0.8671875\n",
      "Loss: 0.42618468403816223 Accuracy: 0.8984375\n",
      "Loss: 0.39228808879852295 Accuracy: 0.90625\n",
      "Loss: 0.39353424310684204 Accuracy: 0.859375\n",
      "Loss: 0.37708163261413574 Accuracy: 0.90625\n",
      "Starting new epoch...\n"
     ]
    }
   ],
   "source": [
    "for step in range(train_steps):\n",
    "    img_batch, lbl_batch = data.next_batch()\n",
    "    with tf.GradientTape() as tape:\n",
    "        logits = tf.matmul(img_batch, W) + b\n",
    "        xent = tf.reduce_mean(tf.nn.sparse_softmax_cross_entropy_with_logits(\n",
    "            logits=logits, labels=lbl_batch))\n",
    "        \n",
    "    grads = tape.gradient(xent, [W, b])\n",
    "    W.assign_sub(learning_rate * grads[0])\n",
    "    b.assign_sub(learning_rate * grads[1])\n",
    "    \n",
    "    if not step % 100:\n",
    "        preds = tf.argmax(logits, axis=1, output_type=tf.int32)\n",
    "        acc = tf.reduce_mean(tf.cast(tf.equal(preds, lbl_batch),\n",
    "                             tf.float32))\n",
    "        print(\"Loss: {} Accuracy: {}\".format(xent, acc))"
   ]
  },
  {
   "cell_type": "code",
   "execution_count": 37,
   "id": "1be445ce",
   "metadata": {},
   "outputs": [
    {
     "name": "stdout",
     "output_type": "stream",
     "text": [
      "tf.Tensor(0.9099, shape=(), dtype=float32)\n"
     ]
    }
   ],
   "source": [
    "test_preds = tf.argmax(tf.matmul(data.test_data, W) + b, axis=1,\n",
    "                       output_type=tf.int32)\n",
    "acc = tf.reduce_mean(tf.cast(tf.equal(test_preds, data.test_labels),\n",
    "                             tf.float32))\n",
    "print(acc)"
   ]
  },
  {
   "cell_type": "markdown",
   "id": "91ae5435",
   "metadata": {},
   "source": [
    "#Trying bias and weight with random number rather than 0."
   ]
  },
  {
   "cell_type": "code",
   "execution_count": 55,
   "id": "dbe6a1cd",
   "metadata": {},
   "outputs": [],
   "source": [
    "train_steps = 1000\n",
    "learning_rate = 0.1\n",
    "\n",
    "W = tf.Variable(initial_value=np.random.rand(784, 10), dtype= tf.float32)\n",
    "b = tf.Variable(initial_value=np.random.rand(1, 10), dtype = tf.float32)"
   ]
  },
  {
   "cell_type": "code",
   "execution_count": 59,
   "id": "448b304f",
   "metadata": {},
   "outputs": [
    {
     "name": "stdout",
     "output_type": "stream",
     "text": [
      "[0.88476865 0.89018703 0.22405178 0.02726407 0.7963819  0.34076886\n",
      " 0.914778   0.45738455 0.99280806 0.28405051]\n"
     ]
    }
   ],
   "source": [
    "print(np.random.rand(784, 10)[0])"
   ]
  },
  {
   "cell_type": "code",
   "execution_count": 56,
   "id": "3fd37698",
   "metadata": {},
   "outputs": [
    {
     "name": "stdout",
     "output_type": "stream",
     "text": [
      "Loss: 3.9276106357574463 Accuracy: 0.0625\n",
      "Loss: 0.7936725616455078 Accuracy: 0.7578125\n",
      "Loss: 0.5452924966812134 Accuracy: 0.8359375\n",
      "Starting new epoch...\n",
      "Loss: 0.6472554206848145 Accuracy: 0.796875\n",
      "Loss: 0.49338507652282715 Accuracy: 0.875\n",
      "Loss: 0.4988260269165039 Accuracy: 0.828125\n",
      "Loss: 0.42869287729263306 Accuracy: 0.8984375\n",
      "Starting new epoch...\n",
      "Loss: 0.31067389249801636 Accuracy: 0.90625\n",
      "Loss: 0.4640328288078308 Accuracy: 0.859375\n",
      "Loss: 0.36461883783340454 Accuracy: 0.8984375\n"
     ]
    }
   ],
   "source": [
    "for step in range(train_steps):\n",
    "    img_batch, lbl_batch = data.next_batch()\n",
    "    with tf.GradientTape() as tape:\n",
    "        logits = tf.matmul(img_batch, W) + b\n",
    "        xent = tf.reduce_mean(tf.nn.sparse_softmax_cross_entropy_with_logits(\n",
    "            logits=logits, labels=lbl_batch))\n",
    "        \n",
    "    grads = tape.gradient(xent, [W, b])\n",
    "    W.assign_sub(learning_rate * grads[0])\n",
    "    b.assign_sub(learning_rate * grads[1])\n",
    "    \n",
    "    if not step % 100:\n",
    "        preds = tf.argmax(logits, axis=1, output_type=tf.int32)\n",
    "        acc = tf.reduce_mean(tf.cast(tf.equal(preds, lbl_batch),\n",
    "                             tf.float32))\n",
    "        print(\"Loss: {} Accuracy: {}\".format(xent, acc))"
   ]
  },
  {
   "cell_type": "code",
   "execution_count": 57,
   "id": "2026cd7c",
   "metadata": {},
   "outputs": [
    {
     "name": "stdout",
     "output_type": "stream",
     "text": [
      "tf.Tensor(0.8881, shape=(), dtype=float32)\n"
     ]
    }
   ],
   "source": [
    "test_preds = tf.argmax(tf.matmul(data.test_data, W) + b, axis=1,\n",
    "                       output_type=tf.int32)\n",
    "acc = tf.reduce_mean(tf.cast(tf.equal(test_preds, data.test_labels),\n",
    "                             tf.float32))\n",
    "print(acc)"
   ]
  },
  {
   "cell_type": "markdown",
   "id": "bf8e133b",
   "metadata": {},
   "source": [
    "#Not much diff in case of single layer"
   ]
  },
  {
   "cell_type": "markdown",
   "id": "150dcfaf",
   "metadata": {},
   "source": [
    "#Multi layer Neural network - (3 hidden layer)"
   ]
  },
  {
   "cell_type": "code",
   "execution_count": 66,
   "id": "350d4618",
   "metadata": {},
   "outputs": [],
   "source": [
    "\n",
    "# Define the number of hidden units for each layer\n",
    "hidden_units = [256, 128, 64]\n",
    "\n",
    "#Training step same as single layer\n",
    "train_steps = 1000\n",
    "learning_rate = 0.1\n",
    "\n",
    "W_input = tf.Variable(np.zeros([784, hidden_units[0]]).astype(np.float32))\n",
    "b_input = tf.Variable(np.zeros(hidden_units[0], dtype=np.float32))\n",
    "\n",
    "# Weight and bias variables for the first hidden layer\n",
    "W_hidden1 = tf.Variable(np.zeros([hidden_units[0], hidden_units[1]]).astype(np.float32))\n",
    "b_hidden1 = tf.Variable(np.zeros(hidden_units[1], dtype=np.float32))\n",
    "\n",
    "# Weight and bias variables for the second hidden layer\n",
    "W_hidden2 = tf.Variable(np.zeros([hidden_units[1], hidden_units[2]]).astype(np.float32))\n",
    "b_hidden2 = tf.Variable(np.zeros(hidden_units[2], dtype=np.float32))\n",
    "\n",
    "# Weight and bias variables for the output layer\n",
    "W_output = tf.Variable(np.zeros([hidden_units[2], 10]).astype(np.float32))\n",
    "b_output = tf.Variable(np.zeros(10, dtype=np.float32))"
   ]
  },
  {
   "cell_type": "code",
   "execution_count": 75,
   "id": "08488d05",
   "metadata": {},
   "outputs": [
    {
     "name": "stdout",
     "output_type": "stream",
     "text": [
      "Loss: 2.3080732822418213 Accuracy: 0.09375\n",
      "Loss: 2.2988409996032715 Accuracy: 0.1171875\n",
      "Loss: 2.302356004714966 Accuracy: 0.140625\n",
      "Loss: 2.3069143295288086 Accuracy: 0.0859375\n",
      "Starting new epoch...\n",
      "Loss: 2.2904953956604004 Accuracy: 0.1640625\n",
      "Loss: 2.293233871459961 Accuracy: 0.1875\n",
      "Loss: 2.304719924926758 Accuracy: 0.1015625\n",
      "Loss: 2.2928009033203125 Accuracy: 0.1796875\n",
      "Loss: 2.299724817276001 Accuracy: 0.1171875\n",
      "Starting new epoch...\n",
      "Loss: 2.303908586502075 Accuracy: 0.1171875\n"
     ]
    }
   ],
   "source": [
    "for step in range(train_steps):\n",
    "    img_batch, lbl_batch = data.next_batch()\n",
    "    with tf.GradientTape() as tape:\n",
    "        # Forward pass\n",
    "        hidden1 = tf.nn.relu(tf.matmul(img_batch, W_input) + b_input)\n",
    "        hidden2 = tf.nn.relu(tf.matmul(hidden1, W_hidden1) + b_hidden1)\n",
    "        hidden3 = tf.nn.relu(tf.matmul(hidden2, W_hidden2) + b_hidden2)\n",
    "        logits = tf.matmul(hidden3, W_output) + b_output\n",
    "\n",
    "        xent = tf.reduce_mean(tf.nn.sparse_softmax_cross_entropy_with_logits(\n",
    "            logits=logits, labels=lbl_batch))\n",
    "\n",
    "    grads = tape.gradient(xent, [W_input, b_input, W_hidden1, b_hidden1, W_hidden2, b_hidden2, W_output, b_output])\n",
    "    W_input.assign_sub(learning_rate * grads[0])\n",
    "    b_input.assign_sub(learning_rate * grads[1])\n",
    "    W_hidden1.assign_sub(learning_rate * grads[2])\n",
    "    b_hidden1.assign_sub(learning_rate * grads[3])\n",
    "    W_hidden2.assign_sub(learning_rate * grads[4])\n",
    "    b_hidden2.assign_sub(learning_rate * grads[5])\n",
    "    W_output.assign_sub(learning_rate * grads[6])\n",
    "    b_output.assign_sub(learning_rate * grads[7])\n",
    "\n",
    "    if not step % 100:\n",
    "        preds = tf.argmax(logits, axis=1, output_type=tf.int32)\n",
    "        acc = tf.reduce_mean(tf.cast(tf.equal(preds, lbl_batch), tf.float32))\n",
    "        print(\"Loss: {} Accuracy: {}\".format(xent, acc))\n",
    "\n",
    "# test_preds = tf.argmax(tf.matmul(data.test_data, W_output) + b_output, axis=1, output_type=tf.int32)\n",
    "# acc = tf.reduce_mean(tf.cast(tf.equal(test_preds, data.test_labels), tf.float32))\n",
    "# print(acc)\n"
   ]
  },
  {
   "cell_type": "markdown",
   "id": "da48e47f",
   "metadata": {},
   "source": [
    "#Low accuracy if we take weights and bias as zeroes - issues of Symmetry,Vanishing Gradients:"
   ]
  },
  {
   "cell_type": "markdown",
   "id": "0626995b",
   "metadata": {},
   "source": [
    "#Trying with random weights and bias. "
   ]
  },
  {
   "cell_type": "code",
   "execution_count": 77,
   "id": "8959d166",
   "metadata": {},
   "outputs": [],
   "source": [
    "# Function to initialize weights with random values in the range [-0.1, 0.1]\n",
    "def initialize_weights(shape):\n",
    "    return tf.Variable(np.random.uniform(low=-0.1, high=0.1, size=shape).astype(np.float32))\n",
    "\n",
    "# Function to initialize biases with random values in the range [-0.1, 0.1]\n",
    "def initialize_biases(shape):\n",
    "    return tf.Variable(np.random.uniform(low=-0.1, high=0.1, size=shape).astype(np.float32))\n"
   ]
  },
  {
   "cell_type": "code",
   "execution_count": 96,
   "id": "dd350164",
   "metadata": {},
   "outputs": [
    {
     "name": "stdout",
     "output_type": "stream",
     "text": [
      "Loss: 2.3284106254577637 Accuracy: 0.0546875\n",
      "Loss: 0.4395413398742676 Accuracy: 0.859375\n",
      "Loss: 0.3180759847164154 Accuracy: 0.875\n",
      "Starting new epoch...\n",
      "Loss: 0.3246888816356659 Accuracy: 0.90625\n",
      "Loss: 0.25551339983940125 Accuracy: 0.9296875\n",
      "Loss: 0.18595102429389954 Accuracy: 0.9453125\n",
      "Loss: 0.14288140833377838 Accuracy: 0.953125\n",
      "Starting new epoch...\n",
      "Loss: 0.1964898705482483 Accuracy: 0.953125\n",
      "Loss: 0.17829769849777222 Accuracy: 0.953125\n",
      "Loss: 0.11838220804929733 Accuracy: 0.9765625\n",
      "tf.Tensor(0.1166, shape=(), dtype=float32)\n"
     ]
    }
   ],
   "source": [
    "hidden_units = [256, 128, 784]\n",
    "# Initialize weights and biases\n",
    "W_input = initialize_weights([784, hidden_units[0]])\n",
    "b_input = initialize_biases([hidden_units[0]])\n",
    "W_hidden1 = initialize_weights([hidden_units[0], hidden_units[1]])\n",
    "b_hidden1 = initialize_biases([hidden_units[1]])\n",
    "W_hidden2 = initialize_weights([hidden_units[1], hidden_units[2]])\n",
    "b_hidden2 = initialize_biases([hidden_units[2]])\n",
    "W_output = initialize_weights([hidden_units[2], 10])\n",
    "b_output = initialize_biases([10])\n",
    "\n",
    "for step in range(train_steps):\n",
    "    img_batch, lbl_batch = data.next_batch()\n",
    "    with tf.GradientTape() as tape:\n",
    "        # Forward pass\n",
    "        hidden1 = tf.nn.relu(tf.matmul(img_batch, W_input) + b_input)\n",
    "        hidden2 = tf.nn.relu(tf.matmul(hidden1, W_hidden1) + b_hidden1)\n",
    "        hidden3 = tf.nn.relu(tf.matmul(hidden2, W_hidden2) + b_hidden2)\n",
    "        logits = tf.matmul(hidden3, W_output) + b_output\n",
    "\n",
    "        xent = tf.reduce_mean(tf.nn.sparse_softmax_cross_entropy_with_logits(\n",
    "            logits=logits, labels=lbl_batch))\n",
    "\n",
    "    grads = tape.gradient(xent, [W_input, b_input, W_hidden1, b_hidden1, W_hidden2, b_hidden2, W_output, b_output])\n",
    "    \n",
    "    # Update weights and biases\n",
    "    W_input.assign_sub(learning_rate * grads[0])\n",
    "    b_input.assign_sub(learning_rate * grads[1])\n",
    "    W_hidden1.assign_sub(learning_rate * grads[2])\n",
    "    b_hidden1.assign_sub(learning_rate * grads[3])\n",
    "    W_hidden2.assign_sub(learning_rate * grads[4])\n",
    "    b_hidden2.assign_sub(learning_rate * grads[5])\n",
    "    W_output.assign_sub(learning_rate * grads[6])\n",
    "    b_output.assign_sub(learning_rate * grads[7])\n",
    "\n",
    "    if not step % 100:\n",
    "        preds = tf.argmax(logits, axis=1, output_type=tf.int32)\n",
    "        acc = tf.reduce_mean(tf.cast(tf.equal(preds, lbl_batch), tf.float32))\n",
    "        print(\"Loss: {} Accuracy: {}\".format(xent, acc))\n",
    "test_preds = tf.argmax(tf.matmul(data.test_data, W_output) + b_output, axis=1, output_type=tf.int32)\n",
    "acc = tf.reduce_mean(tf.cast(tf.equal(test_preds, data.test_labels), tf.float32))\n",
    "print(acc)\n",
    "#print(grads)"
   ]
  },
  {
   "cell_type": "markdown",
   "id": "ea4d2512",
   "metadata": {},
   "source": [
    "#This shows that initializing weights with 0 does not work."
   ]
  }
 ],
 "metadata": {
  "kernelspec": {
   "display_name": "Python 3 (ipykernel)",
   "language": "python",
   "name": "python3"
  },
  "language_info": {
   "codemirror_mode": {
    "name": "ipython",
    "version": 3
   },
   "file_extension": ".py",
   "mimetype": "text/x-python",
   "name": "python",
   "nbconvert_exporter": "python",
   "pygments_lexer": "ipython3",
   "version": "3.8.10"
  }
 },
 "nbformat": 4,
 "nbformat_minor": 5
}
